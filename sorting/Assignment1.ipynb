{
 "cells": [
  {
   "cell_type": "code",
   "execution_count": null,
   "metadata": {},
   "outputs": [],
   "source": [
    "# Import modules and functions\n",
    "from bubble_sort import bubble_sort\n",
    "from merge_sort import merge_sort\n",
    "from selection_sort import selection_sort\n",
    "from quick_sort import quick_sort, improved_quick_sort\n",
    "import time\n",
    "import matplotlib.pyplot as plt\n",
    "from numpy import random\n",
    "from statistics import median\n",
    "import numpy as np"
   ]
  },
  {
   "cell_type": "code",
   "execution_count": null,
   "metadata": {},
   "outputs": [],
   "source": [
    "# Lists to save running time for all n\n",
    "bubble_time_n = []\n",
    "merge_time_n = []\n",
    "selection_time_n = []\n",
    "numpy_time_n = []\n",
    "quick_time_n = []\n",
    "improved_quick_time_n = []\n",
    "n_list = np.arange(100, 2001, 100)"
   ]
  },
  {
   "cell_type": "code",
   "execution_count": null,
   "metadata": {},
   "outputs": [],
   "source": [
    "for n in n_list:\n",
    "    # Lists to save running time for each n\n",
    "    bubble_time = []\n",
    "    merge_time = []\n",
    "    selection_time = []\n",
    "    numpy_time = []\n",
    "    quick_time = []\n",
    "    improved_quick_time = []\n",
    "    #  Run each algorithm for 10 random input lists\n",
    "    for times in range(10):\n",
    "         # Run bubble_sort and keep time\n",
    "         # Generate a random list of length n\n",
    "        list_to_be_sorted = random.normal(0, 1, size=n+1)\n",
    "        start_time = time.time()\n",
    "        bubble_sort(list_to_be_sorted)\n",
    "        end_time = time.time()\n",
    "        bubble_time.append(end_time-start_time)\n",
    "\n",
    "        # Run merge_sort and keep time\n",
    "        # Generate a random list of length n\n",
    "        list_to_be_sorted = random.normal(0, 1, size=n+1)\n",
    "        start_time = time.time()\n",
    "        merge_sort(list_to_be_sorted)\n",
    "        end_time = time.time()\n",
    "        merge_time.append(end_time-start_time)\n",
    "\n",
    "        # Run selection_sort and keep time\n",
    "        # Generate a random list of length n\n",
    "        list_to_be_sorted = random.normal(0, 1, size=n+1)\n",
    "        start_time = time.time()\n",
    "        selection_sort(list_to_be_sorted)\n",
    "        end_time = time.time()\n",
    "        selection_time.append(end_time-start_time)\n",
    "\n",
    "        # Run default sort from numpy and keep time\n",
    "        # Generate a random list of length n\n",
    "        list_to_be_sorted = random.normal(0, 1, size=n+1)\n",
    "        start_time = time.time()\n",
    "        np.sort(list_to_be_sorted)\n",
    "        end_time = time.time()\n",
    "        numpy_time.append(end_time-start_time)\n",
    "\n",
    "        # Run quick sort and keep time\n",
    "        # Generate a random list of length n\n",
    "        list_to_be_sorted = random.normal(0, 1, size=n+1)\n",
    "        start_time = time.time()\n",
    "        quick_sort(list_to_be_sorted, 0, len(list_to_be_sorted)-1)\n",
    "        end_time = time.time()\n",
    "        quick_time.append(end_time-start_time)\n",
    "\n",
    "        # Run improved quick sort and keep time\n",
    "        # Generate a random list of length n\n",
    "        list_to_be_sorted = random.normal(0, 1, size=n+1)\n",
    "        start_time = time.time()\n",
    "        improved_quick_sort(list_to_be_sorted, 0, len(list_to_be_sorted)-1)\n",
    "        end_time = time.time()\n",
    "        improved_quick_time.append(end_time-start_time)\n",
    "    \n",
    "    # Add median time to final lists\n",
    "    bubble_time_n.append(median(bubble_time))\n",
    "    merge_time_n.append(median(merge_time))\n",
    "    selection_time_n.append(median(selection_time))\n",
    "    numpy_time_n.append(median(numpy_time))\n",
    "    quick_time_n.append(median(quick_time))\n",
    "    improved_quick_time_n.append(median(improved_quick_time))"
   ]
  },
  {
   "cell_type": "code",
   "execution_count": null,
   "metadata": {},
   "outputs": [],
   "source": [
    "# Make plot\n",
    "plt.plot(n_list,  bubble_time_n, color = 'r', label = \"bubble_sort\")\n",
    "plt.plot(n_list,  selection_time_n, color = 'b', label = \"selection_sort\")\n",
    "plt.plot(n_list,  merge_time_n, color = 'y', label = \"merge_sort\")\n",
    "plt.plot(n_list,  numpy_time_n, color = 'g', label = \"numpy_sort\")\n",
    "plt.plot(n_list,  quick_time_n, color = 'purple', label = \"numpy_sort\")\n",
    "plt.plot(n_list,  improved_quick_time_n, color = 'orange', label = \"numpy_sort\")\n",
    "plt.legend(loc=\"upper left\")\n",
    "plt.show()"
   ]
  },
  {
   "cell_type": "code",
   "execution_count": null,
   "metadata": {},
   "outputs": [],
   "source": [
    "# g(n)\n",
    "gn_list_1 = n_list * n_list\n",
    "gn_list_2 = n_list * np.log(n_list)"
   ]
  },
  {
   "cell_type": "code",
   "execution_count": null,
   "metadata": {},
   "outputs": [],
   "source": [
    "# Make plot\n",
    "plt.plot(n_list,  bubble_time_n/gn_list_1, color = 'r', label = \"bubble_sort\")\n",
    "plt.plot(n_list,  selection_time_n/gn_list_1, color = 'b', label = \"selection_sort\")\n",
    "plt.plot(n_list,  merge_time_n/gn_list_2, color = 'y', label = \"merge_sort\")\n",
    "plt.plot(n_list,  numpy_time_n/gn_list_2, color = 'g', label = \"numpy_sort\")\n",
    "plt.plot(n_list,  quick_time_n/gn_list_2, color = 'purple', label = \"quick_sort\")\n",
    "plt.plot(n_list,  improved_quick_time_n/gn_list_2, color = 'orange', label = \"quick_sort\")\n",
    "plt.legend(loc=\"center\")\n",
    "plt.show()"
   ]
  }
 ],
 "metadata": {
  "kernelspec": {
   "display_name": "Python 3.9.12 ('base')",
   "language": "python",
   "name": "python3"
  },
  "language_info": {
   "codemirror_mode": {
    "name": "ipython",
    "version": 3
   },
   "file_extension": ".py",
   "mimetype": "text/x-python",
   "name": "python",
   "nbconvert_exporter": "python",
   "pygments_lexer": "ipython3",
   "version": "3.9.12"
  },
  "orig_nbformat": 4,
  "vscode": {
   "interpreter": {
    "hash": "85a7accad58ecefc4a3db57840fa24a3e3611e7462803e6260bd2d9efc548cf6"
   }
  }
 },
 "nbformat": 4,
 "nbformat_minor": 2
}
