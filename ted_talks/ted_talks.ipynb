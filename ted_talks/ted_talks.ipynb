{
 "cells": [
  {
   "cell_type": "markdown",
   "metadata": {},
   "source": [
    "<h1> TED talks data exploration </h1>"
   ]
  },
  {
   "cell_type": "markdown",
   "metadata": {},
   "source": [
    "First import pandas package to deal with data frame. And also matplotlib.pyplot to make plots."
   ]
  },
  {
   "cell_type": "code",
   "execution_count": 17,
   "metadata": {},
   "outputs": [],
   "source": [
    "import pandas as pd\n",
    "import matplotlib.pyplot as plt"
   ]
  },
  {
   "cell_type": "markdown",
   "metadata": {},
   "source": [
    "Add your code and comments below."
   ]
  },
  {
   "cell_type": "markdown",
   "metadata": {},
   "source": [
    "Loading the data as a pandas data frame. This is done by using the read_csv() funtion in the panda package."
   ]
  },
  {
   "cell_type": "code",
   "execution_count": 2,
   "metadata": {},
   "outputs": [],
   "source": [
    "ted_df = pd.read_csv(\"/Users/yipu/statistical_computing/ted_talks-Yi-Pu/20221013_ted_talks.csv\")"
   ]
  },
  {
   "cell_type": "markdown",
   "metadata": {},
   "source": [
    "Simple exploratory display of the data frame, including the head and tail methods:"
   ]
  },
  {
   "cell_type": "code",
   "execution_count": 86,
   "metadata": {},
   "outputs": [
    {
     "data": {
      "text/html": [
       "<div>\n",
       "<style scoped>\n",
       "    .dataframe tbody tr th:only-of-type {\n",
       "        vertical-align: middle;\n",
       "    }\n",
       "\n",
       "    .dataframe tbody tr th {\n",
       "        vertical-align: top;\n",
       "    }\n",
       "\n",
       "    .dataframe thead th {\n",
       "        text-align: right;\n",
       "    }\n",
       "</style>\n",
       "<table border=\"1\" class=\"dataframe\">\n",
       "  <thead>\n",
       "    <tr style=\"text-align: right;\">\n",
       "      <th></th>\n",
       "      <th>id</th>\n",
       "      <th>title</th>\n",
       "      <th>speaker</th>\n",
       "      <th>recorded_date</th>\n",
       "      <th>published_date</th>\n",
       "      <th>event</th>\n",
       "      <th>duration</th>\n",
       "      <th>views</th>\n",
       "      <th>likes</th>\n",
       "      <th>recorded_year</th>\n",
       "      <th>like ratio</th>\n",
       "    </tr>\n",
       "  </thead>\n",
       "  <tbody>\n",
       "    <tr>\n",
       "      <th>0</th>\n",
       "      <td>1</td>\n",
       "      <td>Averting the climate crisis</td>\n",
       "      <td>Al Gore</td>\n",
       "      <td>2006-02-25</td>\n",
       "      <td>2006-06-27</td>\n",
       "      <td>TED2006</td>\n",
       "      <td>957</td>\n",
       "      <td>3681537</td>\n",
       "      <td>110000</td>\n",
       "      <td>2006</td>\n",
       "      <td>0.029879</td>\n",
       "    </tr>\n",
       "    <tr>\n",
       "      <th>1</th>\n",
       "      <td>7</td>\n",
       "      <td>Simplicity sells</td>\n",
       "      <td>David Pogue</td>\n",
       "      <td>2006-02-24</td>\n",
       "      <td>2006-06-27</td>\n",
       "      <td>TED2006</td>\n",
       "      <td>1266</td>\n",
       "      <td>2012797</td>\n",
       "      <td>60000</td>\n",
       "      <td>2006</td>\n",
       "      <td>0.029809</td>\n",
       "    </tr>\n",
       "    <tr>\n",
       "      <th>2</th>\n",
       "      <td>53</td>\n",
       "      <td>Greening the ghetto</td>\n",
       "      <td>Majora Carter</td>\n",
       "      <td>2006-02-26</td>\n",
       "      <td>2006-06-27</td>\n",
       "      <td>TED2006</td>\n",
       "      <td>1096</td>\n",
       "      <td>3006315</td>\n",
       "      <td>90000</td>\n",
       "      <td>2006</td>\n",
       "      <td>0.029937</td>\n",
       "    </tr>\n",
       "    <tr>\n",
       "      <th>3</th>\n",
       "      <td>92</td>\n",
       "      <td>The best stats you've ever seen</td>\n",
       "      <td>Hans Rosling</td>\n",
       "      <td>2006-02-22</td>\n",
       "      <td>2006-06-27</td>\n",
       "      <td>TED2006</td>\n",
       "      <td>1176</td>\n",
       "      <td>15432904</td>\n",
       "      <td>462000</td>\n",
       "      <td>2006</td>\n",
       "      <td>0.029936</td>\n",
       "    </tr>\n",
       "    <tr>\n",
       "      <th>4</th>\n",
       "      <td>66</td>\n",
       "      <td>Do schools kill creativity?</td>\n",
       "      <td>Sir Ken Robinson</td>\n",
       "      <td>2006-02-25</td>\n",
       "      <td>2006-06-27</td>\n",
       "      <td>TED2006</td>\n",
       "      <td>1151</td>\n",
       "      <td>73935964</td>\n",
       "      <td>2200000</td>\n",
       "      <td>2006</td>\n",
       "      <td>0.029755</td>\n",
       "    </tr>\n",
       "  </tbody>\n",
       "</table>\n",
       "</div>"
      ],
      "text/plain": [
       "   id                            title           speaker recorded_date  \\\n",
       "0   1      Averting the climate crisis           Al Gore    2006-02-25   \n",
       "1   7                 Simplicity sells       David Pogue    2006-02-24   \n",
       "2  53              Greening the ghetto     Majora Carter    2006-02-26   \n",
       "3  92  The best stats you've ever seen      Hans Rosling    2006-02-22   \n",
       "4  66      Do schools kill creativity?  Sir Ken Robinson    2006-02-25   \n",
       "\n",
       "  published_date    event  duration     views    likes recorded_year  \\\n",
       "0     2006-06-27  TED2006       957   3681537   110000          2006   \n",
       "1     2006-06-27  TED2006      1266   2012797    60000          2006   \n",
       "2     2006-06-27  TED2006      1096   3006315    90000          2006   \n",
       "3     2006-06-27  TED2006      1176  15432904   462000          2006   \n",
       "4     2006-06-27  TED2006      1151  73935964  2200000          2006   \n",
       "\n",
       "   like ratio  \n",
       "0    0.029879  \n",
       "1    0.029809  \n",
       "2    0.029937  \n",
       "3    0.029936  \n",
       "4    0.029755  "
      ]
     },
     "execution_count": 86,
     "metadata": {},
     "output_type": "execute_result"
    }
   ],
   "source": [
    "ted_df.head()"
   ]
  },
  {
   "cell_type": "markdown",
   "metadata": {},
   "source": [
    "The above command shows the first several lines of the ted talk data frame. We can learn the basic content of the data frame from it."
   ]
  },
  {
   "cell_type": "code",
   "execution_count": null,
   "metadata": {},
   "outputs": [],
   "source": [
    "ted_df.tail()"
   ]
  },
  {
   "cell_type": "markdown",
   "metadata": {},
   "source": [
    "The above command shows the laast several lines of the ted talk data frame. It also helps us learn the basic content of the data frame."
   ]
  },
  {
   "cell_type": "markdown",
   "metadata": {},
   "source": [
    "Simple exploratory analysis regarding the number of data, type of data, column names, etc:"
   ]
  },
  {
   "cell_type": "code",
   "execution_count": 4,
   "metadata": {},
   "outputs": [
    {
     "data": {
      "text/plain": [
       "pandas.core.frame.DataFrame"
      ]
     },
     "execution_count": 4,
     "metadata": {},
     "output_type": "execute_result"
    }
   ],
   "source": [
    "type(ted_df)"
   ]
  },
  {
   "cell_type": "markdown",
   "metadata": {},
   "source": [
    "We can see that the ted talk data frmame is a pandas.core.frame.DataFrame."
   ]
  },
  {
   "cell_type": "code",
   "execution_count": 6,
   "metadata": {},
   "outputs": [
    {
     "data": {
      "text/plain": [
       "Index(['talk_id', 'title', 'speaker', 'recorded_date', 'published_date',\n",
       "       'event', 'duration', 'views', 'likes'],\n",
       "      dtype='object')"
      ]
     },
     "execution_count": 6,
     "metadata": {},
     "output_type": "execute_result"
    }
   ],
   "source": [
    "ted_df.columns"
   ]
  },
  {
   "cell_type": "markdown",
   "metadata": {},
   "source": [
    "We can see that the 11 comlums of the data frame are: 'talk_id', 'title', 'speaker', 'recorded_date', 'published_date', 'event', 'duration', 'views', 'likes'."
   ]
  },
  {
   "cell_type": "code",
   "execution_count": 7,
   "metadata": {},
   "outputs": [
    {
     "data": {
      "text/plain": [
       "RangeIndex(start=0, stop=5701, step=1)"
      ]
     },
     "execution_count": 7,
     "metadata": {},
     "output_type": "execute_result"
    }
   ],
   "source": [
    "ted_df.index"
   ]
  },
  {
   "cell_type": "markdown",
   "metadata": {},
   "source": [
    "We can see that the index of the ted talk data frame starts at 0 and stops 5701. So there are 5701 rows in the data frame."
   ]
  },
  {
   "cell_type": "code",
   "execution_count": 8,
   "metadata": {},
   "outputs": [
    {
     "data": {
      "text/plain": [
       "talk_id            int64\n",
       "title             object\n",
       "speaker           object\n",
       "recorded_date     object\n",
       "published_date    object\n",
       "event             object\n",
       "duration           int64\n",
       "views              int64\n",
       "likes              int64\n",
       "dtype: object"
      ]
     },
     "execution_count": 8,
     "metadata": {},
     "output_type": "execute_result"
    }
   ],
   "source": [
    "ted_df.dtypes"
   ]
  },
  {
   "cell_type": "markdown",
   "metadata": {},
   "source": [
    "We can see that the data type of title, speaker, recorded_date, published_date and event is object. And the data type of talk_id, duration, views and likes is int64."
   ]
  },
  {
   "cell_type": "markdown",
   "metadata": {},
   "source": [
    "Accessing columns and rows of the data frame:"
   ]
  },
  {
   "cell_type": "code",
   "execution_count": 11,
   "metadata": {},
   "outputs": [
    {
     "data": {
      "text/plain": [
       "3    2006-02-22\n",
       "4    2006-02-25\n",
       "5    2006-02-24\n",
       "Name: recorded_date, dtype: object"
      ]
     },
     "execution_count": 11,
     "metadata": {},
     "output_type": "execute_result"
    }
   ],
   "source": [
    "slice1 = ted_df.loc[3:5,\"recorded_date\"]\n",
    "slice1\n"
   ]
  },
  {
   "cell_type": "markdown",
   "metadata": {},
   "source": [
    "The above command select the 3rd to the 5th row, and the column \"recorded_date\" from the data frame."
   ]
  },
  {
   "cell_type": "code",
   "execution_count": 12,
   "metadata": {},
   "outputs": [
    {
     "data": {
      "text/html": [
       "<div>\n",
       "<style scoped>\n",
       "    .dataframe tbody tr th:only-of-type {\n",
       "        vertical-align: middle;\n",
       "    }\n",
       "\n",
       "    .dataframe tbody tr th {\n",
       "        vertical-align: top;\n",
       "    }\n",
       "\n",
       "    .dataframe thead th {\n",
       "        text-align: right;\n",
       "    }\n",
       "</style>\n",
       "<table border=\"1\" class=\"dataframe\">\n",
       "  <thead>\n",
       "    <tr style=\"text-align: right;\">\n",
       "      <th></th>\n",
       "      <th>speaker</th>\n",
       "      <th>duration</th>\n",
       "    </tr>\n",
       "  </thead>\n",
       "  <tbody>\n",
       "    <tr>\n",
       "      <th>4</th>\n",
       "      <td>Sir Ken Robinson</td>\n",
       "      <td>1151</td>\n",
       "    </tr>\n",
       "    <tr>\n",
       "      <th>5</th>\n",
       "      <td>Julia Sweeney</td>\n",
       "      <td>978</td>\n",
       "    </tr>\n",
       "    <tr>\n",
       "      <th>6</th>\n",
       "      <td>Joshua Prince-Ramus</td>\n",
       "      <td>1184</td>\n",
       "    </tr>\n",
       "    <tr>\n",
       "      <th>7</th>\n",
       "      <td>Rick Warren</td>\n",
       "      <td>1248</td>\n",
       "    </tr>\n",
       "  </tbody>\n",
       "</table>\n",
       "</div>"
      ],
      "text/plain": [
       "               speaker  duration\n",
       "4     Sir Ken Robinson      1151\n",
       "5        Julia Sweeney       978\n",
       "6  Joshua Prince-Ramus      1184\n",
       "7          Rick Warren      1248"
      ]
     },
     "execution_count": 12,
     "metadata": {},
     "output_type": "execute_result"
    }
   ],
   "source": [
    "slice2 = ted_df.loc[4:7,[\"speaker\",\"duration\"]]\n",
    "slice2"
   ]
  },
  {
   "cell_type": "markdown",
   "metadata": {},
   "source": [
    "The above command select the 4rd to the 7th row, and the columns \"speaker\" and \"duration\" from the data frame."
   ]
  },
  {
   "cell_type": "code",
   "execution_count": 14,
   "metadata": {},
   "outputs": [
    {
     "data": {
      "text/plain": [
       "speaker     Julia Sweeney\n",
       "duration              978\n",
       "Name: 5, dtype: object"
      ]
     },
     "execution_count": 14,
     "metadata": {},
     "output_type": "execute_result"
    }
   ],
   "source": [
    "slice2.loc[5]\n"
   ]
  },
  {
   "cell_type": "markdown",
   "metadata": {},
   "source": [
    "The above command display the row with index 5 frome the second slice of data frame."
   ]
  },
  {
   "cell_type": "markdown",
   "metadata": {},
   "source": [
    "Indexing the data frame using a Boolean logical operation:"
   ]
  },
  {
   "cell_type": "code",
   "execution_count": 16,
   "metadata": {},
   "outputs": [
    {
     "data": {
      "text/html": [
       "<div>\n",
       "<style scoped>\n",
       "    .dataframe tbody tr th:only-of-type {\n",
       "        vertical-align: middle;\n",
       "    }\n",
       "\n",
       "    .dataframe tbody tr th {\n",
       "        vertical-align: top;\n",
       "    }\n",
       "\n",
       "    .dataframe thead th {\n",
       "        text-align: right;\n",
       "    }\n",
       "</style>\n",
       "<table border=\"1\" class=\"dataframe\">\n",
       "  <thead>\n",
       "    <tr style=\"text-align: right;\">\n",
       "      <th></th>\n",
       "      <th>talk_id</th>\n",
       "      <th>title</th>\n",
       "      <th>speaker</th>\n",
       "      <th>recorded_date</th>\n",
       "      <th>published_date</th>\n",
       "      <th>event</th>\n",
       "      <th>duration</th>\n",
       "      <th>views</th>\n",
       "      <th>likes</th>\n",
       "    </tr>\n",
       "  </thead>\n",
       "  <tbody>\n",
       "    <tr>\n",
       "      <th>5</th>\n",
       "      <td>86</td>\n",
       "      <td>Letting go of God</td>\n",
       "      <td>Julia Sweeney</td>\n",
       "      <td>2006-02-24</td>\n",
       "      <td>2006-07-10</td>\n",
       "      <td>TED2006</td>\n",
       "      <td>978</td>\n",
       "      <td>4836214</td>\n",
       "      <td>145000</td>\n",
       "    </tr>\n",
       "    <tr>\n",
       "      <th>680</th>\n",
       "      <td>856</td>\n",
       "      <td>It's time for \"The Talk\"</td>\n",
       "      <td>Julia Sweeney</td>\n",
       "      <td>2010-02-12</td>\n",
       "      <td>2010-05-14</td>\n",
       "      <td>TED2010</td>\n",
       "      <td>299</td>\n",
       "      <td>3863706</td>\n",
       "      <td>115000</td>\n",
       "    </tr>\n",
       "  </tbody>\n",
       "</table>\n",
       "</div>"
      ],
      "text/plain": [
       "     talk_id                     title        speaker recorded_date  \\\n",
       "5         86         Letting go of God  Julia Sweeney    2006-02-24   \n",
       "680      856  It's time for \"The Talk\"  Julia Sweeney    2010-02-12   \n",
       "\n",
       "    published_date    event  duration    views   likes  \n",
       "5       2006-07-10  TED2006       978  4836214  145000  \n",
       "680     2010-05-14  TED2010       299  3863706  115000  "
      ]
     },
     "execution_count": 16,
     "metadata": {},
     "output_type": "execute_result"
    }
   ],
   "source": [
    "JS = ted_df[\"speaker\"] == \"Julia Sweeney\"\n",
    "ted_df[JS]"
   ]
  },
  {
   "cell_type": "markdown",
   "metadata": {},
   "source": [
    "The above command select the information of ted talks which were delivered by \"Julia Sweeney\"."
   ]
  },
  {
   "cell_type": "markdown",
   "metadata": {},
   "source": [
    "Simple plots created using the data:"
   ]
  },
  {
   "cell_type": "code",
   "execution_count": 24,
   "metadata": {},
   "outputs": [
    {
     "data": {
      "image/png": "[encoded data removed]",
      "text/plain": [
       "<Figure size 432x288 with 1 Axes>"
      ]
     },
     "metadata": {
      "needs_background": "light"
     },
     "output_type": "display_data"
    }
   ],
   "source": [
    "plt.scatter(\n",
    "    ted_df[\"views\"], ted_df[\"likes\"],\n",
    "    alpha=0.5)\n",
    "plt.xlabel(\"views\")\n",
    "plt.ylabel(\"likes\")\n",
    "plt.show()"
   ]
  },
  {
   "cell_type": "markdown",
   "metadata": {},
   "source": [
    "The plot above shows the relationship between likes and views. And we can see that the likes are basically proportional to views."
   ]
  },
  {
   "cell_type": "code",
   "execution_count": 23,
   "metadata": {},
   "outputs": [
    {
     "data": {
      "image/png": "[encoded data removed]",
      "text/plain": [
       "<Figure size 432x288 with 1 Axes>"
      ]
     },
     "metadata": {
      "needs_background": "light"
     },
     "output_type": "display_data"
    }
   ],
   "source": [
    "plt.scatter(\n",
    "    ted_df[\"duration\"], ted_df[\"views\"],\n",
    "    color = \"r\",\n",
    "    alpha=0.5)\n",
    "plt.xlabel(\"duration\")\n",
    "plt.ylabel(\"views\")\n",
    "plt.show()"
   ]
  },
  {
   "cell_type": "markdown",
   "metadata": {},
   "source": [
    "The plot above shows the relationship between views and duration. And we can see that ted talks with about 1200 duration have the most views."
   ]
  },
  {
   "cell_type": "markdown",
   "metadata": {},
   "source": [
    "Usage of valuecounts():"
   ]
  },
  {
   "cell_type": "code",
   "execution_count": 31,
   "metadata": {},
   "outputs": [
    {
     "data": {
      "text/plain": [
       "TED-Ed               890\n",
       "TED2018              104\n",
       "TED2020              102\n",
       "TED2019              101\n",
       "TED2017               97\n",
       "                    ... \n",
       "TEDxEastEnd            1\n",
       "TEDActive 2015         1\n",
       "Global Witness         1\n",
       "TEDxCreativeCoast      1\n",
       "TEDxSurrey             1\n",
       "Name: event, Length: 637, dtype: int64"
      ]
     },
     "execution_count": 31,
     "metadata": {},
     "output_type": "execute_result"
    }
   ],
   "source": [
    "event_count = ted_df[\"event\"].value_counts()\n",
    "event_count"
   ]
  },
  {
   "cell_type": "markdown",
   "metadata": {},
   "source": [
    "The above commands shows the number of each event in the data frame. And TED-Ed, TED2018, TED2020 and TED2019 are events with the largest counts."
   ]
  },
  {
   "cell_type": "markdown",
   "metadata": {},
   "source": [
    "Sorting of the data frame:"
   ]
  },
  {
   "cell_type": "code",
   "execution_count": 33,
   "metadata": {},
   "outputs": [
    {
     "data": {
      "text/html": [
       "<div>\n",
       "<style scoped>\n",
       "    .dataframe tbody tr th:only-of-type {\n",
       "        vertical-align: middle;\n",
       "    }\n",
       "\n",
       "    .dataframe tbody tr th {\n",
       "        vertical-align: top;\n",
       "    }\n",
       "\n",
       "    .dataframe thead th {\n",
       "        text-align: right;\n",
       "    }\n",
       "</style>\n",
       "<table border=\"1\" class=\"dataframe\">\n",
       "  <thead>\n",
       "    <tr style=\"text-align: right;\">\n",
       "      <th></th>\n",
       "      <th>talk_id</th>\n",
       "      <th>title</th>\n",
       "      <th>speaker</th>\n",
       "      <th>recorded_date</th>\n",
       "      <th>published_date</th>\n",
       "      <th>event</th>\n",
       "      <th>duration</th>\n",
       "      <th>views</th>\n",
       "      <th>likes</th>\n",
       "    </tr>\n",
       "  </thead>\n",
       "  <tbody>\n",
       "    <tr>\n",
       "      <th>681</th>\n",
       "      <td>857</td>\n",
       "      <td>Why believe in others</td>\n",
       "      <td>Viktor Frankl</td>\n",
       "      <td>1972-05-14</td>\n",
       "      <td>2010-05-14</td>\n",
       "      <td>Toronto Youth Corps</td>\n",
       "      <td>262</td>\n",
       "      <td>1392109</td>\n",
       "      <td>41000</td>\n",
       "    </tr>\n",
       "    <tr>\n",
       "      <th>625</th>\n",
       "      <td>784</td>\n",
       "      <td>Physics is fun to imagine</td>\n",
       "      <td>Richard Feynman</td>\n",
       "      <td>1983-07-08</td>\n",
       "      <td>2010-03-03</td>\n",
       "      <td>BBC TV</td>\n",
       "      <td>427</td>\n",
       "      <td>694414</td>\n",
       "      <td>20000</td>\n",
       "    </tr>\n",
       "    <tr>\n",
       "      <th>199</th>\n",
       "      <td>230</td>\n",
       "      <td>5 predictions, from 1984</td>\n",
       "      <td>Nicholas Negroponte</td>\n",
       "      <td>1984-02-02</td>\n",
       "      <td>2008-03-11</td>\n",
       "      <td>TED1984</td>\n",
       "      <td>1509</td>\n",
       "      <td>1119188</td>\n",
       "      <td>33000</td>\n",
       "    </tr>\n",
       "    <tr>\n",
       "      <th>201</th>\n",
       "      <td>231</td>\n",
       "      <td>My days as a young rebel</td>\n",
       "      <td>Frank Gehry</td>\n",
       "      <td>1990-03-03</td>\n",
       "      <td>2008-03-13</td>\n",
       "      <td>TED1990</td>\n",
       "      <td>2658</td>\n",
       "      <td>728017</td>\n",
       "      <td>21000</td>\n",
       "    </tr>\n",
       "    <tr>\n",
       "      <th>598</th>\n",
       "      <td>746</td>\n",
       "      <td>Growing up in the universe</td>\n",
       "      <td>Richard Dawkins</td>\n",
       "      <td>1991-12-20</td>\n",
       "      <td>2010-01-23</td>\n",
       "      <td>Royal Institution</td>\n",
       "      <td>3457</td>\n",
       "      <td>328255</td>\n",
       "      <td>9800</td>\n",
       "    </tr>\n",
       "  </tbody>\n",
       "</table>\n",
       "</div>"
      ],
      "text/plain": [
       "     talk_id                       title              speaker recorded_date  \\\n",
       "681      857       Why believe in others        Viktor Frankl    1972-05-14   \n",
       "625      784   Physics is fun to imagine      Richard Feynman    1983-07-08   \n",
       "199      230    5 predictions, from 1984  Nicholas Negroponte    1984-02-02   \n",
       "201      231    My days as a young rebel          Frank Gehry    1990-03-03   \n",
       "598      746  Growing up in the universe      Richard Dawkins    1991-12-20   \n",
       "\n",
       "    published_date                event  duration    views  likes  \n",
       "681     2010-05-14  Toronto Youth Corps       262  1392109  41000  \n",
       "625     2010-03-03               BBC TV       427   694414  20000  \n",
       "199     2008-03-11              TED1984      1509  1119188  33000  \n",
       "201     2008-03-13              TED1990      2658   728017  21000  \n",
       "598     2010-01-23    Royal Institution      3457   328255   9800  "
      ]
     },
     "execution_count": 33,
     "metadata": {},
     "output_type": "execute_result"
    }
   ],
   "source": [
    "ted_df_sorted = ted_df.sort_values(by=[\"recorded_date\",\"published_date\"])\n",
    "ted_df_sorted.head()"
   ]
  },
  {
   "cell_type": "code",
   "execution_count": 34,
   "metadata": {},
   "outputs": [
    {
     "data": {
      "text/html": [
       "<div>\n",
       "<style scoped>\n",
       "    .dataframe tbody tr th:only-of-type {\n",
       "        vertical-align: middle;\n",
       "    }\n",
       "\n",
       "    .dataframe tbody tr th {\n",
       "        vertical-align: top;\n",
       "    }\n",
       "\n",
       "    .dataframe thead th {\n",
       "        text-align: right;\n",
       "    }\n",
       "</style>\n",
       "<table border=\"1\" class=\"dataframe\">\n",
       "  <thead>\n",
       "    <tr style=\"text-align: right;\">\n",
       "      <th></th>\n",
       "      <th>talk_id</th>\n",
       "      <th>title</th>\n",
       "      <th>speaker</th>\n",
       "      <th>recorded_date</th>\n",
       "      <th>published_date</th>\n",
       "      <th>event</th>\n",
       "      <th>duration</th>\n",
       "      <th>views</th>\n",
       "      <th>likes</th>\n",
       "    </tr>\n",
       "  </thead>\n",
       "  <tbody>\n",
       "    <tr>\n",
       "      <th>5495</th>\n",
       "      <td>89970</td>\n",
       "      <td>How we're turning carbon waste into jet fuel (...</td>\n",
       "      <td>Jennifer Holmgren</td>\n",
       "      <td>2022-10-12</td>\n",
       "      <td>2022-04-01</td>\n",
       "      <td>Countdown Summit</td>\n",
       "      <td>738</td>\n",
       "      <td>23378</td>\n",
       "      <td>701</td>\n",
       "    </tr>\n",
       "    <tr>\n",
       "      <th>5698</th>\n",
       "      <td>98383</td>\n",
       "      <td>Can exercise actually \"boost\" your metabolism?</td>\n",
       "      <td>Jen Gunter</td>\n",
       "      <td>2022-10-12</td>\n",
       "      <td>2022-10-12</td>\n",
       "      <td>Body Stuff with Dr. Jen Gunter</td>\n",
       "      <td>210</td>\n",
       "      <td>30087</td>\n",
       "      <td>902</td>\n",
       "    </tr>\n",
       "    <tr>\n",
       "      <th>5699</th>\n",
       "      <td>98706</td>\n",
       "      <td>How did they build the Great Pyramid of Giza?</td>\n",
       "      <td>Soraya Field Fiorio</td>\n",
       "      <td>2022-10-13</td>\n",
       "      <td>2022-10-13</td>\n",
       "      <td>TED-Ed</td>\n",
       "      <td>332</td>\n",
       "      <td>456</td>\n",
       "      <td>13</td>\n",
       "    </tr>\n",
       "    <tr>\n",
       "      <th>4677</th>\n",
       "      <td>65384</td>\n",
       "      <td>Love letters to what we hold dear</td>\n",
       "      <td>Debbie Millman</td>\n",
       "      <td>NaN</td>\n",
       "      <td>2020-07-24</td>\n",
       "      <td>TED2020</td>\n",
       "      <td>106</td>\n",
       "      <td>197422</td>\n",
       "      <td>5900</td>\n",
       "    </tr>\n",
       "    <tr>\n",
       "      <th>4679</th>\n",
       "      <td>65233</td>\n",
       "      <td>Innovations in sleep</td>\n",
       "      <td>Beautyrest</td>\n",
       "      <td>NaN</td>\n",
       "      <td>2020-07-29</td>\n",
       "      <td>Sleeping with Science</td>\n",
       "      <td>125</td>\n",
       "      <td>62456</td>\n",
       "      <td>1800</td>\n",
       "    </tr>\n",
       "  </tbody>\n",
       "</table>\n",
       "</div>"
      ],
      "text/plain": [
       "      talk_id                                              title  \\\n",
       "5495    89970  How we're turning carbon waste into jet fuel (...   \n",
       "5698    98383     Can exercise actually \"boost\" your metabolism?   \n",
       "5699    98706      How did they build the Great Pyramid of Giza?   \n",
       "4677    65384                  Love letters to what we hold dear   \n",
       "4679    65233                               Innovations in sleep   \n",
       "\n",
       "                  speaker recorded_date published_date  \\\n",
       "5495    Jennifer Holmgren    2022-10-12     2022-04-01   \n",
       "5698           Jen Gunter    2022-10-12     2022-10-12   \n",
       "5699  Soraya Field Fiorio    2022-10-13     2022-10-13   \n",
       "4677       Debbie Millman           NaN     2020-07-24   \n",
       "4679           Beautyrest           NaN     2020-07-29   \n",
       "\n",
       "                               event  duration   views  likes  \n",
       "5495                Countdown Summit       738   23378    701  \n",
       "5698  Body Stuff with Dr. Jen Gunter       210   30087    902  \n",
       "5699                          TED-Ed       332     456     13  \n",
       "4677                        TED2020        106  197422   5900  \n",
       "4679           Sleeping with Science       125   62456   1800  "
      ]
     },
     "execution_count": 34,
     "metadata": {},
     "output_type": "execute_result"
    }
   ],
   "source": [
    "ted_df_sorted.tail()"
   ]
  },
  {
   "cell_type": "markdown",
   "metadata": {},
   "source": [
    "The above commands sort the data frame by \"recorded_date\" and \"published_date\". According to the head and tail of the sorted data frame, the oldest talks are at the top of the data frame while the newest ones are at the bottom of the data frame."
   ]
  },
  {
   "cell_type": "markdown",
   "metadata": {},
   "source": [
    "Applying transformations to the data using the apply method with a lambda anonymous function\n",
    "definition:"
   ]
  },
  {
   "cell_type": "code",
   "execution_count": 42,
   "metadata": {},
   "outputs": [
    {
     "data": {
      "text/plain": [
       "0       2006\n",
       "1       2006\n",
       "2       2006\n",
       "3       2006\n",
       "4       2006\n",
       "        ... \n",
       "5696    2022\n",
       "5697    2022\n",
       "5698    2022\n",
       "5699    2022\n",
       "5700    2022\n",
       "Name: recorded_year, Length: 5701, dtype: object"
      ]
     },
     "execution_count": 42,
     "metadata": {},
     "output_type": "execute_result"
    }
   ],
   "source": [
    "ted_df[\"recorded_year\"] = ted_df.recorded_date.apply(lambda x: str(x)[0:4])\n",
    "ted_df[\"recorded_year\"]"
   ]
  },
  {
   "cell_type": "markdown",
   "metadata": {},
   "source": [
    "The above commands extract the year from recorded_date and add a to a new column called recorded_year."
   ]
  },
  {
   "cell_type": "markdown",
   "metadata": {},
   "source": [
    "Investigating the presence of missing data (see isna() which is both a method and a function)："
   ]
  },
  {
   "cell_type": "code",
   "execution_count": 52,
   "metadata": {},
   "outputs": [
    {
     "data": {
      "text/html": [
       "<div>\n",
       "<style scoped>\n",
       "    .dataframe tbody tr th:only-of-type {\n",
       "        vertical-align: middle;\n",
       "    }\n",
       "\n",
       "    .dataframe tbody tr th {\n",
       "        vertical-align: top;\n",
       "    }\n",
       "\n",
       "    .dataframe thead th {\n",
       "        text-align: right;\n",
       "    }\n",
       "</style>\n",
       "<table border=\"1\" class=\"dataframe\">\n",
       "  <thead>\n",
       "    <tr style=\"text-align: right;\">\n",
       "      <th></th>\n",
       "      <th>id</th>\n",
       "      <th>title</th>\n",
       "      <th>speaker</th>\n",
       "      <th>recorded_date</th>\n",
       "      <th>published_date</th>\n",
       "      <th>event</th>\n",
       "      <th>duration</th>\n",
       "      <th>views</th>\n",
       "      <th>likes</th>\n",
       "      <th>recorded_year</th>\n",
       "    </tr>\n",
       "  </thead>\n",
       "  <tbody>\n",
       "    <tr>\n",
       "      <th>0</th>\n",
       "      <td>NaN</td>\n",
       "      <td>NaN</td>\n",
       "      <td>NaN</td>\n",
       "      <td>NaN</td>\n",
       "      <td>NaN</td>\n",
       "      <td>NaN</td>\n",
       "      <td>NaN</td>\n",
       "      <td>NaN</td>\n",
       "      <td>NaN</td>\n",
       "      <td>NaN</td>\n",
       "    </tr>\n",
       "    <tr>\n",
       "      <th>1</th>\n",
       "      <td>NaN</td>\n",
       "      <td>NaN</td>\n",
       "      <td>NaN</td>\n",
       "      <td>NaN</td>\n",
       "      <td>NaN</td>\n",
       "      <td>NaN</td>\n",
       "      <td>NaN</td>\n",
       "      <td>NaN</td>\n",
       "      <td>NaN</td>\n",
       "      <td>NaN</td>\n",
       "    </tr>\n",
       "    <tr>\n",
       "      <th>2</th>\n",
       "      <td>NaN</td>\n",
       "      <td>NaN</td>\n",
       "      <td>NaN</td>\n",
       "      <td>NaN</td>\n",
       "      <td>NaN</td>\n",
       "      <td>NaN</td>\n",
       "      <td>NaN</td>\n",
       "      <td>NaN</td>\n",
       "      <td>NaN</td>\n",
       "      <td>NaN</td>\n",
       "    </tr>\n",
       "    <tr>\n",
       "      <th>3</th>\n",
       "      <td>NaN</td>\n",
       "      <td>NaN</td>\n",
       "      <td>NaN</td>\n",
       "      <td>NaN</td>\n",
       "      <td>NaN</td>\n",
       "      <td>NaN</td>\n",
       "      <td>NaN</td>\n",
       "      <td>NaN</td>\n",
       "      <td>NaN</td>\n",
       "      <td>NaN</td>\n",
       "    </tr>\n",
       "    <tr>\n",
       "      <th>4</th>\n",
       "      <td>NaN</td>\n",
       "      <td>NaN</td>\n",
       "      <td>NaN</td>\n",
       "      <td>NaN</td>\n",
       "      <td>NaN</td>\n",
       "      <td>NaN</td>\n",
       "      <td>NaN</td>\n",
       "      <td>NaN</td>\n",
       "      <td>NaN</td>\n",
       "      <td>NaN</td>\n",
       "    </tr>\n",
       "    <tr>\n",
       "      <th>...</th>\n",
       "      <td>...</td>\n",
       "      <td>...</td>\n",
       "      <td>...</td>\n",
       "      <td>...</td>\n",
       "      <td>...</td>\n",
       "      <td>...</td>\n",
       "      <td>...</td>\n",
       "      <td>...</td>\n",
       "      <td>...</td>\n",
       "      <td>...</td>\n",
       "    </tr>\n",
       "    <tr>\n",
       "      <th>5696</th>\n",
       "      <td>NaN</td>\n",
       "      <td>NaN</td>\n",
       "      <td>NaN</td>\n",
       "      <td>NaN</td>\n",
       "      <td>NaN</td>\n",
       "      <td>NaN</td>\n",
       "      <td>NaN</td>\n",
       "      <td>NaN</td>\n",
       "      <td>NaN</td>\n",
       "      <td>NaN</td>\n",
       "    </tr>\n",
       "    <tr>\n",
       "      <th>5697</th>\n",
       "      <td>NaN</td>\n",
       "      <td>NaN</td>\n",
       "      <td>NaN</td>\n",
       "      <td>NaN</td>\n",
       "      <td>NaN</td>\n",
       "      <td>NaN</td>\n",
       "      <td>NaN</td>\n",
       "      <td>NaN</td>\n",
       "      <td>NaN</td>\n",
       "      <td>NaN</td>\n",
       "    </tr>\n",
       "    <tr>\n",
       "      <th>5698</th>\n",
       "      <td>NaN</td>\n",
       "      <td>NaN</td>\n",
       "      <td>NaN</td>\n",
       "      <td>NaN</td>\n",
       "      <td>NaN</td>\n",
       "      <td>NaN</td>\n",
       "      <td>NaN</td>\n",
       "      <td>NaN</td>\n",
       "      <td>NaN</td>\n",
       "      <td>NaN</td>\n",
       "    </tr>\n",
       "    <tr>\n",
       "      <th>5699</th>\n",
       "      <td>NaN</td>\n",
       "      <td>NaN</td>\n",
       "      <td>NaN</td>\n",
       "      <td>NaN</td>\n",
       "      <td>NaN</td>\n",
       "      <td>NaN</td>\n",
       "      <td>NaN</td>\n",
       "      <td>NaN</td>\n",
       "      <td>NaN</td>\n",
       "      <td>NaN</td>\n",
       "    </tr>\n",
       "    <tr>\n",
       "      <th>5700</th>\n",
       "      <td>NaN</td>\n",
       "      <td>NaN</td>\n",
       "      <td>NaN</td>\n",
       "      <td>NaN</td>\n",
       "      <td>NaN</td>\n",
       "      <td>NaN</td>\n",
       "      <td>NaN</td>\n",
       "      <td>NaN</td>\n",
       "      <td>NaN</td>\n",
       "      <td>NaN</td>\n",
       "    </tr>\n",
       "  </tbody>\n",
       "</table>\n",
       "<p>5701 rows × 10 columns</p>\n",
       "</div>"
      ],
      "text/plain": [
       "      id title speaker recorded_date published_date event  duration  views  \\\n",
       "0    NaN   NaN     NaN           NaN            NaN   NaN       NaN    NaN   \n",
       "1    NaN   NaN     NaN           NaN            NaN   NaN       NaN    NaN   \n",
       "2    NaN   NaN     NaN           NaN            NaN   NaN       NaN    NaN   \n",
       "3    NaN   NaN     NaN           NaN            NaN   NaN       NaN    NaN   \n",
       "4    NaN   NaN     NaN           NaN            NaN   NaN       NaN    NaN   \n",
       "...   ..   ...     ...           ...            ...   ...       ...    ...   \n",
       "5696 NaN   NaN     NaN           NaN            NaN   NaN       NaN    NaN   \n",
       "5697 NaN   NaN     NaN           NaN            NaN   NaN       NaN    NaN   \n",
       "5698 NaN   NaN     NaN           NaN            NaN   NaN       NaN    NaN   \n",
       "5699 NaN   NaN     NaN           NaN            NaN   NaN       NaN    NaN   \n",
       "5700 NaN   NaN     NaN           NaN            NaN   NaN       NaN    NaN   \n",
       "\n",
       "      likes recorded_year  \n",
       "0       NaN           NaN  \n",
       "1       NaN           NaN  \n",
       "2       NaN           NaN  \n",
       "3       NaN           NaN  \n",
       "4       NaN           NaN  \n",
       "...     ...           ...  \n",
       "5696    NaN           NaN  \n",
       "5697    NaN           NaN  \n",
       "5698    NaN           NaN  \n",
       "5699    NaN           NaN  \n",
       "5700    NaN           NaN  \n",
       "\n",
       "[5701 rows x 10 columns]"
      ]
     },
     "execution_count": 52,
     "metadata": {},
     "output_type": "execute_result"
    }
   ],
   "source": [
    "ted_df[ted_df.isna()] "
   ]
  },
  {
   "cell_type": "markdown",
   "metadata": {},
   "source": [
    "The above command extract the empty values from the data frame."
   ]
  },
  {
   "cell_type": "markdown",
   "metadata": {},
   "source": [
    "Creating a new column:"
   ]
  },
  {
   "cell_type": "code",
   "execution_count": 55,
   "metadata": {},
   "outputs": [
    {
     "data": {
      "text/html": [
       "<div>\n",
       "<style scoped>\n",
       "    .dataframe tbody tr th:only-of-type {\n",
       "        vertical-align: middle;\n",
       "    }\n",
       "\n",
       "    .dataframe tbody tr th {\n",
       "        vertical-align: top;\n",
       "    }\n",
       "\n",
       "    .dataframe thead th {\n",
       "        text-align: right;\n",
       "    }\n",
       "</style>\n",
       "<table border=\"1\" class=\"dataframe\">\n",
       "  <thead>\n",
       "    <tr style=\"text-align: right;\">\n",
       "      <th></th>\n",
       "      <th>id</th>\n",
       "      <th>title</th>\n",
       "      <th>speaker</th>\n",
       "      <th>recorded_date</th>\n",
       "      <th>published_date</th>\n",
       "      <th>event</th>\n",
       "      <th>duration</th>\n",
       "      <th>views</th>\n",
       "      <th>likes</th>\n",
       "      <th>recorded_year</th>\n",
       "      <th>like ratio</th>\n",
       "    </tr>\n",
       "  </thead>\n",
       "  <tbody>\n",
       "    <tr>\n",
       "      <th>0</th>\n",
       "      <td>1</td>\n",
       "      <td>Averting the climate crisis</td>\n",
       "      <td>Al Gore</td>\n",
       "      <td>2006-02-25</td>\n",
       "      <td>2006-06-27</td>\n",
       "      <td>TED2006</td>\n",
       "      <td>957</td>\n",
       "      <td>3681537</td>\n",
       "      <td>110000</td>\n",
       "      <td>2006</td>\n",
       "      <td>0.029879</td>\n",
       "    </tr>\n",
       "    <tr>\n",
       "      <th>1</th>\n",
       "      <td>7</td>\n",
       "      <td>Simplicity sells</td>\n",
       "      <td>David Pogue</td>\n",
       "      <td>2006-02-24</td>\n",
       "      <td>2006-06-27</td>\n",
       "      <td>TED2006</td>\n",
       "      <td>1266</td>\n",
       "      <td>2012797</td>\n",
       "      <td>60000</td>\n",
       "      <td>2006</td>\n",
       "      <td>0.029809</td>\n",
       "    </tr>\n",
       "    <tr>\n",
       "      <th>2</th>\n",
       "      <td>53</td>\n",
       "      <td>Greening the ghetto</td>\n",
       "      <td>Majora Carter</td>\n",
       "      <td>2006-02-26</td>\n",
       "      <td>2006-06-27</td>\n",
       "      <td>TED2006</td>\n",
       "      <td>1096</td>\n",
       "      <td>3006315</td>\n",
       "      <td>90000</td>\n",
       "      <td>2006</td>\n",
       "      <td>0.029937</td>\n",
       "    </tr>\n",
       "    <tr>\n",
       "      <th>3</th>\n",
       "      <td>92</td>\n",
       "      <td>The best stats you've ever seen</td>\n",
       "      <td>Hans Rosling</td>\n",
       "      <td>2006-02-22</td>\n",
       "      <td>2006-06-27</td>\n",
       "      <td>TED2006</td>\n",
       "      <td>1176</td>\n",
       "      <td>15432904</td>\n",
       "      <td>462000</td>\n",
       "      <td>2006</td>\n",
       "      <td>0.029936</td>\n",
       "    </tr>\n",
       "    <tr>\n",
       "      <th>4</th>\n",
       "      <td>66</td>\n",
       "      <td>Do schools kill creativity?</td>\n",
       "      <td>Sir Ken Robinson</td>\n",
       "      <td>2006-02-25</td>\n",
       "      <td>2006-06-27</td>\n",
       "      <td>TED2006</td>\n",
       "      <td>1151</td>\n",
       "      <td>73935964</td>\n",
       "      <td>2200000</td>\n",
       "      <td>2006</td>\n",
       "      <td>0.029755</td>\n",
       "    </tr>\n",
       "  </tbody>\n",
       "</table>\n",
       "</div>"
      ],
      "text/plain": [
       "   id                            title           speaker recorded_date  \\\n",
       "0   1      Averting the climate crisis           Al Gore    2006-02-25   \n",
       "1   7                 Simplicity sells       David Pogue    2006-02-24   \n",
       "2  53              Greening the ghetto     Majora Carter    2006-02-26   \n",
       "3  92  The best stats you've ever seen      Hans Rosling    2006-02-22   \n",
       "4  66      Do schools kill creativity?  Sir Ken Robinson    2006-02-25   \n",
       "\n",
       "  published_date    event  duration     views    likes recorded_year  \\\n",
       "0     2006-06-27  TED2006       957   3681537   110000          2006   \n",
       "1     2006-06-27  TED2006      1266   2012797    60000          2006   \n",
       "2     2006-06-27  TED2006      1096   3006315    90000          2006   \n",
       "3     2006-06-27  TED2006      1176  15432904   462000          2006   \n",
       "4     2006-06-27  TED2006      1151  73935964  2200000          2006   \n",
       "\n",
       "   like ratio  \n",
       "0    0.029879  \n",
       "1    0.029809  \n",
       "2    0.029937  \n",
       "3    0.029936  \n",
       "4    0.029755  "
      ]
     },
     "execution_count": 55,
     "metadata": {},
     "output_type": "execute_result"
    }
   ],
   "source": [
    "ted_df[\"like ratio\"] = ted_df[\"likes\"]/ted_df[\"views\"]\n",
    "ted_df[\"like ratio\"]"
   ]
  },
  {
   "cell_type": "markdown",
   "metadata": {},
   "source": [
    "The above command create a new column, which is the ratio of likes to views."
   ]
  },
  {
   "cell_type": "markdown",
   "metadata": {},
   "source": [
    "Changing existing column names:"
   ]
  },
  {
   "cell_type": "code",
   "execution_count": 51,
   "metadata": {},
   "outputs": [
    {
     "data": {
      "text/plain": [
       "Index(['id', 'title', 'speaker', 'recorded_date', 'published_date', 'event',\n",
       "       'duration', 'views', 'likes', 'recorded_year'],\n",
       "      dtype='object')"
      ]
     },
     "execution_count": 51,
     "metadata": {},
     "output_type": "execute_result"
    }
   ],
   "source": [
    "ted_df = ted_df.rename(columns={'talk_id':'id'})\n",
    "ted_df.columns"
   ]
  },
  {
   "cell_type": "markdown",
   "metadata": {},
   "source": [
    "The above commands change the first column's name from 'talk_id' to 'id'."
   ]
  },
  {
   "cell_type": "markdown",
   "metadata": {},
   "source": [
    "Creating new data frames that are subsets of the original:"
   ]
  },
  {
   "cell_type": "code",
   "execution_count": 63,
   "metadata": {},
   "outputs": [
    {
     "data": {
      "text/html": [
       "<div>\n",
       "<style scoped>\n",
       "    .dataframe tbody tr th:only-of-type {\n",
       "        vertical-align: middle;\n",
       "    }\n",
       "\n",
       "    .dataframe tbody tr th {\n",
       "        vertical-align: top;\n",
       "    }\n",
       "\n",
       "    .dataframe thead th {\n",
       "        text-align: right;\n",
       "    }\n",
       "</style>\n",
       "<table border=\"1\" class=\"dataframe\">\n",
       "  <thead>\n",
       "    <tr style=\"text-align: right;\">\n",
       "      <th></th>\n",
       "      <th>id</th>\n",
       "      <th>title</th>\n",
       "      <th>speaker</th>\n",
       "      <th>recorded_date</th>\n",
       "      <th>published_date</th>\n",
       "      <th>event</th>\n",
       "      <th>duration</th>\n",
       "      <th>views</th>\n",
       "      <th>likes</th>\n",
       "      <th>recorded_year</th>\n",
       "      <th>like ratio</th>\n",
       "    </tr>\n",
       "  </thead>\n",
       "  <tbody>\n",
       "    <tr>\n",
       "      <th>0</th>\n",
       "      <td>1</td>\n",
       "      <td>Averting the climate crisis</td>\n",
       "      <td>Al Gore</td>\n",
       "      <td>2006-02-25</td>\n",
       "      <td>2006-06-27</td>\n",
       "      <td>TED2006</td>\n",
       "      <td>957</td>\n",
       "      <td>3681537</td>\n",
       "      <td>110000</td>\n",
       "      <td>2006</td>\n",
       "      <td>0.029879</td>\n",
       "    </tr>\n",
       "    <tr>\n",
       "      <th>1</th>\n",
       "      <td>7</td>\n",
       "      <td>Simplicity sells</td>\n",
       "      <td>David Pogue</td>\n",
       "      <td>2006-02-24</td>\n",
       "      <td>2006-06-27</td>\n",
       "      <td>TED2006</td>\n",
       "      <td>1266</td>\n",
       "      <td>2012797</td>\n",
       "      <td>60000</td>\n",
       "      <td>2006</td>\n",
       "      <td>0.029809</td>\n",
       "    </tr>\n",
       "    <tr>\n",
       "      <th>2</th>\n",
       "      <td>53</td>\n",
       "      <td>Greening the ghetto</td>\n",
       "      <td>Majora Carter</td>\n",
       "      <td>2006-02-26</td>\n",
       "      <td>2006-06-27</td>\n",
       "      <td>TED2006</td>\n",
       "      <td>1096</td>\n",
       "      <td>3006315</td>\n",
       "      <td>90000</td>\n",
       "      <td>2006</td>\n",
       "      <td>0.029937</td>\n",
       "    </tr>\n",
       "    <tr>\n",
       "      <th>3</th>\n",
       "      <td>92</td>\n",
       "      <td>The best stats you've ever seen</td>\n",
       "      <td>Hans Rosling</td>\n",
       "      <td>2006-02-22</td>\n",
       "      <td>2006-06-27</td>\n",
       "      <td>TED2006</td>\n",
       "      <td>1176</td>\n",
       "      <td>15432904</td>\n",
       "      <td>462000</td>\n",
       "      <td>2006</td>\n",
       "      <td>0.029936</td>\n",
       "    </tr>\n",
       "    <tr>\n",
       "      <th>4</th>\n",
       "      <td>66</td>\n",
       "      <td>Do schools kill creativity?</td>\n",
       "      <td>Sir Ken Robinson</td>\n",
       "      <td>2006-02-25</td>\n",
       "      <td>2006-06-27</td>\n",
       "      <td>TED2006</td>\n",
       "      <td>1151</td>\n",
       "      <td>73935964</td>\n",
       "      <td>2200000</td>\n",
       "      <td>2006</td>\n",
       "      <td>0.029755</td>\n",
       "    </tr>\n",
       "  </tbody>\n",
       "</table>\n",
       "</div>"
      ],
      "text/plain": [
       "   id                            title           speaker recorded_date  \\\n",
       "0   1      Averting the climate crisis           Al Gore    2006-02-25   \n",
       "1   7                 Simplicity sells       David Pogue    2006-02-24   \n",
       "2  53              Greening the ghetto     Majora Carter    2006-02-26   \n",
       "3  92  The best stats you've ever seen      Hans Rosling    2006-02-22   \n",
       "4  66      Do schools kill creativity?  Sir Ken Robinson    2006-02-25   \n",
       "\n",
       "  published_date    event  duration     views    likes recorded_year  \\\n",
       "0     2006-06-27  TED2006       957   3681537   110000          2006   \n",
       "1     2006-06-27  TED2006      1266   2012797    60000          2006   \n",
       "2     2006-06-27  TED2006      1096   3006315    90000          2006   \n",
       "3     2006-06-27  TED2006      1176  15432904   462000          2006   \n",
       "4     2006-06-27  TED2006      1151  73935964  2200000          2006   \n",
       "\n",
       "   like ratio  \n",
       "0    0.029879  \n",
       "1    0.029809  \n",
       "2    0.029937  \n",
       "3    0.029936  \n",
       "4    0.029755  "
      ]
     },
     "execution_count": 63,
     "metadata": {},
     "output_type": "execute_result"
    }
   ],
   "source": [
    "index_2006 = ted_df[\"recorded_year\"] == \"2006\"\n",
    "index_2007 = ted_df[\"recorded_year\"] == \"2007\"\n",
    "ted_2006 = ted_df[index_2006]\n",
    "ted_2007 = ted_df[index_2007]\n",
    "ted_2006.head()"
   ]
  },
  {
   "cell_type": "markdown",
   "metadata": {},
   "source": [
    "The above commands creates two sub data frames from the original data frame. They contain ted talks from 2006 and 2007."
   ]
  },
  {
   "cell_type": "code",
   "execution_count": 64,
   "metadata": {},
   "outputs": [
    {
     "data": {
      "text/html": [
       "<div>\n",
       "<style scoped>\n",
       "    .dataframe tbody tr th:only-of-type {\n",
       "        vertical-align: middle;\n",
       "    }\n",
       "\n",
       "    .dataframe tbody tr th {\n",
       "        vertical-align: top;\n",
       "    }\n",
       "\n",
       "    .dataframe thead th {\n",
       "        text-align: right;\n",
       "    }\n",
       "</style>\n",
       "<table border=\"1\" class=\"dataframe\">\n",
       "  <thead>\n",
       "    <tr style=\"text-align: right;\">\n",
       "      <th></th>\n",
       "      <th>id</th>\n",
       "      <th>title</th>\n",
       "      <th>speaker</th>\n",
       "      <th>recorded_date</th>\n",
       "      <th>published_date</th>\n",
       "      <th>event</th>\n",
       "      <th>duration</th>\n",
       "      <th>views</th>\n",
       "      <th>likes</th>\n",
       "      <th>recorded_year</th>\n",
       "      <th>like ratio</th>\n",
       "    </tr>\n",
       "  </thead>\n",
       "  <tbody>\n",
       "    <tr>\n",
       "      <th>474</th>\n",
       "      <td>585</td>\n",
       "      <td>You are the future of philanthropy</td>\n",
       "      <td>Katherine Fulton</td>\n",
       "      <td>2007-03-10</td>\n",
       "      <td>2009-06-25</td>\n",
       "      <td>TED2007</td>\n",
       "      <td>734</td>\n",
       "      <td>509891</td>\n",
       "      <td>15000</td>\n",
       "      <td>2007</td>\n",
       "      <td>0.029418</td>\n",
       "    </tr>\n",
       "    <tr>\n",
       "      <th>479</th>\n",
       "      <td>590</td>\n",
       "      <td>The design genius of Charles + Ray Eames</td>\n",
       "      <td>Eames Demetrios</td>\n",
       "      <td>2007-02-02</td>\n",
       "      <td>2009-07-06</td>\n",
       "      <td>TED2007</td>\n",
       "      <td>894</td>\n",
       "      <td>833325</td>\n",
       "      <td>24000</td>\n",
       "      <td>2007</td>\n",
       "      <td>0.028800</td>\n",
       "    </tr>\n",
       "    <tr>\n",
       "      <th>585</th>\n",
       "      <td>730</td>\n",
       "      <td>Really achieving your childhood dreams</td>\n",
       "      <td>Randy Pausch</td>\n",
       "      <td>2007-09-18</td>\n",
       "      <td>2010-01-08</td>\n",
       "      <td>Carnegie Mellon University</td>\n",
       "      <td>4587</td>\n",
       "      <td>662291</td>\n",
       "      <td>19000</td>\n",
       "      <td>2007</td>\n",
       "      <td>0.028688</td>\n",
       "    </tr>\n",
       "    <tr>\n",
       "      <th>661</th>\n",
       "      <td>835</td>\n",
       "      <td>Homeopathy, quackery and fraud</td>\n",
       "      <td>James Randi</td>\n",
       "      <td>2007-02-02</td>\n",
       "      <td>2010-04-19</td>\n",
       "      <td>TED2007</td>\n",
       "      <td>1022</td>\n",
       "      <td>6102266</td>\n",
       "      <td>183000</td>\n",
       "      <td>2007</td>\n",
       "      <td>0.029989</td>\n",
       "    </tr>\n",
       "    <tr>\n",
       "      <th>960</th>\n",
       "      <td>1176</td>\n",
       "      <td>A circle of caring</td>\n",
       "      <td>Jok Church</td>\n",
       "      <td>2007-03-03</td>\n",
       "      <td>2011-06-22</td>\n",
       "      <td>TED2007</td>\n",
       "      <td>196</td>\n",
       "      <td>830454</td>\n",
       "      <td>24000</td>\n",
       "      <td>2007</td>\n",
       "      <td>0.028900</td>\n",
       "    </tr>\n",
       "  </tbody>\n",
       "</table>\n",
       "</div>"
      ],
      "text/plain": [
       "       id                                     title           speaker  \\\n",
       "474   585        You are the future of philanthropy  Katherine Fulton   \n",
       "479   590  The design genius of Charles + Ray Eames   Eames Demetrios   \n",
       "585   730    Really achieving your childhood dreams      Randy Pausch   \n",
       "661   835            Homeopathy, quackery and fraud       James Randi   \n",
       "960  1176                        A circle of caring        Jok Church   \n",
       "\n",
       "    recorded_date published_date                       event  duration  \\\n",
       "474    2007-03-10     2009-06-25                     TED2007       734   \n",
       "479    2007-02-02     2009-07-06                     TED2007       894   \n",
       "585    2007-09-18     2010-01-08  Carnegie Mellon University      4587   \n",
       "661    2007-02-02     2010-04-19                     TED2007      1022   \n",
       "960    2007-03-03     2011-06-22                     TED2007       196   \n",
       "\n",
       "       views   likes recorded_year  like ratio  \n",
       "474   509891   15000          2007    0.029418  \n",
       "479   833325   24000          2007    0.028800  \n",
       "585   662291   19000          2007    0.028688  \n",
       "661  6102266  183000          2007    0.029989  \n",
       "960   830454   24000          2007    0.028900  "
      ]
     },
     "execution_count": 64,
     "metadata": {},
     "output_type": "execute_result"
    }
   ],
   "source": [
    "ted_2007.tail()"
   ]
  },
  {
   "cell_type": "markdown",
   "metadata": {},
   "source": [
    "Concatenating data frames:"
   ]
  },
  {
   "cell_type": "code",
   "execution_count": 88,
   "metadata": {},
   "outputs": [
    {
     "data": {
      "text/plain": [
       "(49, 11)"
      ]
     },
     "execution_count": 88,
     "metadata": {},
     "output_type": "execute_result"
    }
   ],
   "source": [
    "ted_2006.shape"
   ]
  },
  {
   "cell_type": "code",
   "execution_count": 89,
   "metadata": {},
   "outputs": [
    {
     "data": {
      "text/plain": [
       "(113, 11)"
      ]
     },
     "execution_count": 89,
     "metadata": {},
     "output_type": "execute_result"
    }
   ],
   "source": [
    "ted_2007.shape"
   ]
  },
  {
   "cell_type": "code",
   "execution_count": 74,
   "metadata": {},
   "outputs": [
    {
     "data": {
      "text/plain": [
       "2007    113\n",
       "2006     49\n",
       "Name: recorded_year, dtype: int64"
      ]
     },
     "execution_count": 74,
     "metadata": {},
     "output_type": "execute_result"
    }
   ],
   "source": [
    "ted_2006_2007 = pd.concat([ted_2006,ted_2007], axis = 0)\n",
    "ted_2006_2007.recorded_year.value_counts()"
   ]
  },
  {
   "cell_type": "markdown",
   "metadata": {},
   "source": [
    "The above commands concatenated the two sub data frame together. So the ted_2006_2007 contains information of ted talks from 2006 and 2007."
   ]
  },
  {
   "cell_type": "markdown",
   "metadata": {},
   "source": [
    "Saving a modified form of the data frame (or some subset of it) to a csv file:"
   ]
  },
  {
   "cell_type": "code",
   "execution_count": 75,
   "metadata": {},
   "outputs": [],
   "source": [
    "ted_2006_2007.to_csv(\"Ted_Talk_2006_2007.csv\", index = False)"
   ]
  },
  {
   "cell_type": "markdown",
   "metadata": {},
   "source": [
    "The above commands save the ted_2006_2007 data frame to a new csv file."
   ]
  },
  {
   "cell_type": "markdown",
   "metadata": {},
   "source": [
    "One additional capability of pandas: delete a column"
   ]
  },
  {
   "cell_type": "code",
   "execution_count": 85,
   "metadata": {},
   "outputs": [
    {
     "data": {
      "text/html": [
       "<div>\n",
       "<style scoped>\n",
       "    .dataframe tbody tr th:only-of-type {\n",
       "        vertical-align: middle;\n",
       "    }\n",
       "\n",
       "    .dataframe tbody tr th {\n",
       "        vertical-align: top;\n",
       "    }\n",
       "\n",
       "    .dataframe thead th {\n",
       "        text-align: right;\n",
       "    }\n",
       "</style>\n",
       "<table border=\"1\" class=\"dataframe\">\n",
       "  <thead>\n",
       "    <tr style=\"text-align: right;\">\n",
       "      <th></th>\n",
       "      <th>id</th>\n",
       "      <th>title</th>\n",
       "      <th>speaker</th>\n",
       "      <th>recorded_date</th>\n",
       "      <th>published_date</th>\n",
       "      <th>event</th>\n",
       "      <th>views</th>\n",
       "      <th>likes</th>\n",
       "      <th>recorded_year</th>\n",
       "      <th>like ratio</th>\n",
       "    </tr>\n",
       "  </thead>\n",
       "  <tbody>\n",
       "    <tr>\n",
       "      <th>0</th>\n",
       "      <td>1</td>\n",
       "      <td>Averting the climate crisis</td>\n",
       "      <td>Al Gore</td>\n",
       "      <td>2006-02-25</td>\n",
       "      <td>2006-06-27</td>\n",
       "      <td>TED2006</td>\n",
       "      <td>3681537</td>\n",
       "      <td>110000</td>\n",
       "      <td>2006</td>\n",
       "      <td>0.029879</td>\n",
       "    </tr>\n",
       "    <tr>\n",
       "      <th>1</th>\n",
       "      <td>7</td>\n",
       "      <td>Simplicity sells</td>\n",
       "      <td>David Pogue</td>\n",
       "      <td>2006-02-24</td>\n",
       "      <td>2006-06-27</td>\n",
       "      <td>TED2006</td>\n",
       "      <td>2012797</td>\n",
       "      <td>60000</td>\n",
       "      <td>2006</td>\n",
       "      <td>0.029809</td>\n",
       "    </tr>\n",
       "    <tr>\n",
       "      <th>2</th>\n",
       "      <td>53</td>\n",
       "      <td>Greening the ghetto</td>\n",
       "      <td>Majora Carter</td>\n",
       "      <td>2006-02-26</td>\n",
       "      <td>2006-06-27</td>\n",
       "      <td>TED2006</td>\n",
       "      <td>3006315</td>\n",
       "      <td>90000</td>\n",
       "      <td>2006</td>\n",
       "      <td>0.029937</td>\n",
       "    </tr>\n",
       "    <tr>\n",
       "      <th>3</th>\n",
       "      <td>92</td>\n",
       "      <td>The best stats you've ever seen</td>\n",
       "      <td>Hans Rosling</td>\n",
       "      <td>2006-02-22</td>\n",
       "      <td>2006-06-27</td>\n",
       "      <td>TED2006</td>\n",
       "      <td>15432904</td>\n",
       "      <td>462000</td>\n",
       "      <td>2006</td>\n",
       "      <td>0.029936</td>\n",
       "    </tr>\n",
       "    <tr>\n",
       "      <th>4</th>\n",
       "      <td>66</td>\n",
       "      <td>Do schools kill creativity?</td>\n",
       "      <td>Sir Ken Robinson</td>\n",
       "      <td>2006-02-25</td>\n",
       "      <td>2006-06-27</td>\n",
       "      <td>TED2006</td>\n",
       "      <td>73935964</td>\n",
       "      <td>2200000</td>\n",
       "      <td>2006</td>\n",
       "      <td>0.029755</td>\n",
       "    </tr>\n",
       "    <tr>\n",
       "      <th>...</th>\n",
       "      <td>...</td>\n",
       "      <td>...</td>\n",
       "      <td>...</td>\n",
       "      <td>...</td>\n",
       "      <td>...</td>\n",
       "      <td>...</td>\n",
       "      <td>...</td>\n",
       "      <td>...</td>\n",
       "      <td>...</td>\n",
       "      <td>...</td>\n",
       "    </tr>\n",
       "    <tr>\n",
       "      <th>474</th>\n",
       "      <td>585</td>\n",
       "      <td>You are the future of philanthropy</td>\n",
       "      <td>Katherine Fulton</td>\n",
       "      <td>2007-03-10</td>\n",
       "      <td>2009-06-25</td>\n",
       "      <td>TED2007</td>\n",
       "      <td>509891</td>\n",
       "      <td>15000</td>\n",
       "      <td>2007</td>\n",
       "      <td>0.029418</td>\n",
       "    </tr>\n",
       "    <tr>\n",
       "      <th>479</th>\n",
       "      <td>590</td>\n",
       "      <td>The design genius of Charles + Ray Eames</td>\n",
       "      <td>Eames Demetrios</td>\n",
       "      <td>2007-02-02</td>\n",
       "      <td>2009-07-06</td>\n",
       "      <td>TED2007</td>\n",
       "      <td>833325</td>\n",
       "      <td>24000</td>\n",
       "      <td>2007</td>\n",
       "      <td>0.028800</td>\n",
       "    </tr>\n",
       "    <tr>\n",
       "      <th>585</th>\n",
       "      <td>730</td>\n",
       "      <td>Really achieving your childhood dreams</td>\n",
       "      <td>Randy Pausch</td>\n",
       "      <td>2007-09-18</td>\n",
       "      <td>2010-01-08</td>\n",
       "      <td>Carnegie Mellon University</td>\n",
       "      <td>662291</td>\n",
       "      <td>19000</td>\n",
       "      <td>2007</td>\n",
       "      <td>0.028688</td>\n",
       "    </tr>\n",
       "    <tr>\n",
       "      <th>661</th>\n",
       "      <td>835</td>\n",
       "      <td>Homeopathy, quackery and fraud</td>\n",
       "      <td>James Randi</td>\n",
       "      <td>2007-02-02</td>\n",
       "      <td>2010-04-19</td>\n",
       "      <td>TED2007</td>\n",
       "      <td>6102266</td>\n",
       "      <td>183000</td>\n",
       "      <td>2007</td>\n",
       "      <td>0.029989</td>\n",
       "    </tr>\n",
       "    <tr>\n",
       "      <th>960</th>\n",
       "      <td>1176</td>\n",
       "      <td>A circle of caring</td>\n",
       "      <td>Jok Church</td>\n",
       "      <td>2007-03-03</td>\n",
       "      <td>2011-06-22</td>\n",
       "      <td>TED2007</td>\n",
       "      <td>830454</td>\n",
       "      <td>24000</td>\n",
       "      <td>2007</td>\n",
       "      <td>0.028900</td>\n",
       "    </tr>\n",
       "  </tbody>\n",
       "</table>\n",
       "<p>162 rows × 10 columns</p>\n",
       "</div>"
      ],
      "text/plain": [
       "       id                                     title           speaker  \\\n",
       "0       1               Averting the climate crisis           Al Gore   \n",
       "1       7                          Simplicity sells       David Pogue   \n",
       "2      53                       Greening the ghetto     Majora Carter   \n",
       "3      92           The best stats you've ever seen      Hans Rosling   \n",
       "4      66               Do schools kill creativity?  Sir Ken Robinson   \n",
       "..    ...                                       ...               ...   \n",
       "474   585        You are the future of philanthropy  Katherine Fulton   \n",
       "479   590  The design genius of Charles + Ray Eames   Eames Demetrios   \n",
       "585   730    Really achieving your childhood dreams      Randy Pausch   \n",
       "661   835            Homeopathy, quackery and fraud       James Randi   \n",
       "960  1176                        A circle of caring        Jok Church   \n",
       "\n",
       "    recorded_date published_date                       event     views  \\\n",
       "0      2006-02-25     2006-06-27                     TED2006   3681537   \n",
       "1      2006-02-24     2006-06-27                     TED2006   2012797   \n",
       "2      2006-02-26     2006-06-27                     TED2006   3006315   \n",
       "3      2006-02-22     2006-06-27                     TED2006  15432904   \n",
       "4      2006-02-25     2006-06-27                     TED2006  73935964   \n",
       "..            ...            ...                         ...       ...   \n",
       "474    2007-03-10     2009-06-25                     TED2007    509891   \n",
       "479    2007-02-02     2009-07-06                     TED2007    833325   \n",
       "585    2007-09-18     2010-01-08  Carnegie Mellon University    662291   \n",
       "661    2007-02-02     2010-04-19                     TED2007   6102266   \n",
       "960    2007-03-03     2011-06-22                     TED2007    830454   \n",
       "\n",
       "       likes recorded_year  like ratio  \n",
       "0     110000          2006    0.029879  \n",
       "1      60000          2006    0.029809  \n",
       "2      90000          2006    0.029937  \n",
       "3     462000          2006    0.029936  \n",
       "4    2200000          2006    0.029755  \n",
       "..       ...           ...         ...  \n",
       "474    15000          2007    0.029418  \n",
       "479    24000          2007    0.028800  \n",
       "585    19000          2007    0.028688  \n",
       "661   183000          2007    0.029989  \n",
       "960    24000          2007    0.028900  \n",
       "\n",
       "[162 rows x 10 columns]"
      ]
     },
     "execution_count": 85,
     "metadata": {},
     "output_type": "execute_result"
    }
   ],
   "source": [
    "ted_2006_2007.drop([\"duration\"], axis=1)"
   ]
  },
  {
   "cell_type": "markdown",
   "metadata": {},
   "source": [
    "The above commands deletes the duration column from the data frame."
   ]
  }
 ],
 "metadata": {
  "kernelspec": {
   "display_name": "Python 3.9.12 ('base')",
   "language": "python",
   "name": "python3"
  },
  "language_info": {
   "codemirror_mode": {
    "name": "ipython",
    "version": 3
   },
   "file_extension": ".py",
   "mimetype": "text/x-python",
   "name": "python",
   "nbconvert_exporter": "python",
   "pygments_lexer": "ipython3",
   "version": "3.9.12"
  },
  "orig_nbformat": 4,
  "vscode": {
   "interpreter": {
    "hash": "85a7accad58ecefc4a3db57840fa24a3e3611e7462803e6260bd2d9efc548cf6"
   }
  }
 },
 "nbformat": 4,
 "nbformat_minor": 2
}
